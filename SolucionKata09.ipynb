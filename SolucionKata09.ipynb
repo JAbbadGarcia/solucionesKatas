{
 "cells": [
  {
   "cell_type": "markdown",
   "metadata": {},
   "source": [
    "### Ejercicio 1: Trabajar con argumentos en funciones\n",
    "\n",
    "Los argumentos requeridos en las funciones se utilizan cuando las funciones necesitan que esos argumentos funcionen correctamente. En este ejercicio, construirás un informe de combustible que requiere información de varias ubicaciones de combustible en todo el cohete."
   ]
  },
  {
   "cell_type": "code",
   "execution_count": 1,
   "metadata": {},
   "outputs": [
    {
     "data": {
      "text/plain": [
       "'Average: 30.0% Takn1: 25% tank2: 30% tank3: 35% '"
      ]
     },
     "execution_count": 1,
     "metadata": {},
     "output_type": "execute_result"
    }
   ],
   "source": [
    "# Función para leer 3 tanques de combustible y muestre el promedio\n",
    "\n",
    "def report(Takn1, Tank2, Tank3):\n",
    "    average = (Takn1 + Tank2 + Tank3) / 3\n",
    "    return \"\"\"Average: {0}% Takn1: {1}% tank2: {2}% tank3: {3}% \"\"\".format(average,Takn1,Tank2,Tank3)\n",
    "report(25,30,35)"
   ]
  },
  {
   "cell_type": "code",
   "execution_count": 6,
   "metadata": {},
   "outputs": [
    {
     "name": "stdout",
     "output_type": "stream",
     "text": [
      "Fuel Report:  Average: 30.0% Takn1: 25% tank2: 30% tank3: 35% \n"
     ]
    }
   ],
   "source": [
    "# Llamamos a la función que genera el reporte print(funcion(tanque1, tanque2, tanque3))\n",
    "print(report(25,30,35))"
   ]
  },
  {
   "cell_type": "code",
   "execution_count": 17,
   "metadata": {},
   "outputs": [],
   "source": [
    "# Función promedio \n",
    "def averages(values):\n",
    "    sm = sum(values)\n",
    "    itms = len(values)\n",
    "    return sm / itms\n",
    "\n",
    "\n",
    "\n",
    "\n"
   ]
  },
  {
   "cell_type": "code",
   "execution_count": 32,
   "metadata": {},
   "outputs": [
    {
     "name": "stdout",
     "output_type": "stream",
     "text": [
      "Fuel Report: \n",
      " Average: 56.666666666666664% \n",
      " Takn1: 75% \n",
      " tank2: 50% \n",
      " tank3: 45% \n"
     ]
    }
   ],
   "source": [
    "# Actualiza la función\n",
    "def report(Takn1, Tank2, Tank3):\n",
    "   return \"\"\"Fuel Report: \\n Average: {0}% \\n Takn1: {1}% \\n tank2: {2}% \\n tank3: {3}% \"\"\".format(averages([Takn1, Tank2, Tank3]),Takn1,Tank2,Tank3)\n",
    "print(report(75,50,45))\n"
   ]
  },
  {
   "cell_type": "markdown",
   "metadata": {},
   "source": [
    "Ejercicio 2: Trabajo con argumentos de palabra clave\n",
    "Ejercicio : Trabajar con argumentos de palabras clave en funciones\n",
    "En este ejercicio, construirás un informe de cohete que requiere varias piezas de información, como el tiempo hasta el destino, el combustible a la izquierda y el nombre del destino. Comienza por crear una función que creará un informe preciso de la misión:"
   ]
  },
  {
   "cell_type": "code",
   "execution_count": 42,
   "metadata": {},
   "outputs": [
    {
     "name": "stdout",
     "output_type": "stream",
     "text": [
      "\n",
      "    Destino de mision: 14\n",
      "    Tiempo de vuelo: 51\n",
      "    Tiempo de destino: Tierra\n",
      "    Tanque externo: 50000\n",
      "    Tanque interno: 70000 \n"
     ]
    }
   ],
   "source": [
    "# Función con un informe preciso de la misión. Considera hora de prelanzamiento, tiempo de vuelo, destino, tanque externo y tanque interno\n",
    "def mision(prelanzamiento,tiempovuelo,destino,tanqueExterno,tanqueInterno):\n",
    "    return \"\"\"\n",
    "    Destino de mision: {0}\n",
    "    Tiempo de vuelo: {1}\n",
    "    Tiempo de destino: {2}\n",
    "    Tanque externo: {3}\n",
    "    Tanque interno: {4} \"\"\".format(prelanzamiento,tiempovuelo,destino,tanqueExterno,tanqueInterno)\n",
    "\n",
    "print(mision(14, 51, \"Tierra\", 50000, 70000))\n"
   ]
  },
  {
   "cell_type": "markdown",
   "metadata": {},
   "source": [
    "La función es problemática porque no se puede adaptar para minutos adicionales o tanques adicionales de combustible. Hazlo más flexible permitiendo cualquier número de pasos basados en el tiempo y cualquier número de tanques. En lugar de usar *args y **kwargs, aprovecha el hecho de que puedes usar cualquier nombre que desees. Asegurate que la función sea más legible mediante el uso de nombres de variables que están asociados con las entradas, como *minutes y **fuel_reservoirs:\n",
    "\n"
   ]
  },
  {
   "cell_type": "code",
   "execution_count": 49,
   "metadata": {},
   "outputs": [
    {
     "name": "stdout",
     "output_type": "stream",
     "text": [
      "\n",
      "            Destino: Tierra\n",
      "            Tiempo de viaje: 105\n",
      "            Combustible: 60212\n",
      "            \n"
     ]
    }
   ],
   "source": [
    "# Escribe tu nueva función de reporte considerando lo anterior\n",
    "def mision(destino,*minutos,**Tanque):\n",
    "    return  \"\"\"\n",
    "            Destino: {0}\n",
    "            Tiempo de viaje: {1}\n",
    "            Combustible: {2}\n",
    "            \"\"\".format(destino, sum(minutos),sum(Tanque.values())) \n",
    "\n",
    "print(mision(\"Tierra\", 30, 50, 25, main=54556, external=5656))\n"
   ]
  },
  {
   "cell_type": "markdown",
   "metadata": {},
   "source": [
    "Debido a que el combustible que queda en los tanques es específico de cada tanque, actualiza la función para usar el nombre de cada tanque en el informe:\n",
    "\n"
   ]
  },
  {
   "cell_type": "code",
   "execution_count": 71,
   "metadata": {},
   "outputs": [
    {
     "name": "stdout",
     "output_type": "stream",
     "text": [
      "\n",
      "    Desino de mision Tierra\n",
      "    tiempo de viaje: 74 minutos\n",
      "    combustible: 500000\n",
      "    tanque: tabk1 combustible 300000 galones \n",
      "    tanque: tank2 combustible 200000 galones \n",
      "    \n"
     ]
    }
   ],
   "source": [
    "# Escribe tu nueva función\n",
    "\n",
    "def nuvaFuncMision(destino, *minutos, **tanque):\n",
    "    reporte = \"\"\"\n",
    "    Desino de mision {0}\n",
    "    tiempo de viaje: {1} minutos\n",
    "    combustible: {2}\n",
    "    \"\"\".format(destino,sum(minutos),sum(tanque.values()))\n",
    "    for TanqueId, galones in tanque.items():\n",
    "        reporte += \"\"\"tanque: {0} combustible {1} galones \\n    \"\"\".format(TanqueId,galones)\n",
    "    return reporte\n",
    "\n",
    "print(nuvaFuncMision(\"Tierra\", 8, 11, 55, tabk1=300000, tank2=200000))"
   ]
  }
 ],
 "metadata": {
  "interpreter": {
   "hash": "2be5faf79681da6f2a61fdfdd5405d65d042280f7fba6178067603e3a2925119"
  },
  "kernelspec": {
   "display_name": "Python 3.10.2 64-bit",
   "language": "python",
   "name": "python3"
  },
  "language_info": {
   "codemirror_mode": {
    "name": "ipython",
    "version": 3
   },
   "file_extension": ".py",
   "mimetype": "text/x-python",
   "name": "python",
   "nbconvert_exporter": "python",
   "pygments_lexer": "ipython3",
   "version": "3.10.2"
  },
  "orig_nbformat": 4
 },
 "nbformat": 4,
 "nbformat_minor": 2
}
